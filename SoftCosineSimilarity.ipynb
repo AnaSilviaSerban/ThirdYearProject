{
 "cells": [
  {
   "cell_type": "code",
   "execution_count": 1,
   "metadata": {
    "scrolled": true
   },
   "outputs": [],
   "source": [
    "import gensim\n",
    "# upgrade gensim if you can't import softcossim\n",
    "from gensim.matutils import softcossim \n",
    "from gensim import corpora\n",
    "import gensim.downloader as api\n",
    "from gensim.utils import simple_preprocess\n",
    "\n",
    "#import requests, zipfile, io\n",
    "#from gensim.models.fasttext import FastText\n",
    "#attempt load\n",
    "model = api.load(\"fasttext-wiki-news-subwords-300\")\n"
   ]
  },
  {
   "cell_type": "code",
   "execution_count": 8,
   "metadata": {},
   "outputs": [
    {
     "name": "stdout",
     "output_type": "stream",
     "text": [
      "['Review of the criteria governing when an exposure shall be transferred to recovery or liquidation as wells the main responsibility for the recovery or liquidation process.\\n', '\\n', 'The institution shall define criteria or the involvement of the staff or organisational units specialising in recovery and/or liquidation.\\n', '\\n', 'Exposures that are subject to intensified loan management shall be reviewed at predefined intervals (further intensified loan management, return to normal monitoring, transfer to liquidation or recovery)']\n"
     ]
    }
   ],
   "source": [
    "doc_trump = \"Review of the criteria governing when an exposure shall be transferred to recovery or liquidation as wells the main responsibility for the recovery or liquidation process.\"\n",
    "\n",
    "doc_election = \"The institution shall define criteria or the involvement of the staff or organisational units specialising in recovery and/or liquidation.\"\n",
    "\n",
    "doc_putin = \"Exposures that are subject to intensified loan management shall be reviewed at predefined intervals (further intensified loan management, return to normal monitoring, transfer to liquidation or recovery\"\n",
    "\n",
    "question = \"What shall an institution do with regard to recovery and liquidation?\"\n",
    "\n",
    "doc_soup = \"Soup is a primarily liquid food, generally served warm or hot (but may be cool or cold), that is made by combining ingredients of meat or vegetables with stock, juice, water, or another liquid. \"\n",
    "\n",
    "doc_noodles = \"Noodles are a staple food in many cultures. They are made from unleavened dough which is stretched, extruded, or rolled flat and cut into one of a variety of shapes.\"\n",
    "\n",
    "doc_dosa = \"Dosa is a type of pancake from the Indian subcontinent, made from a fermented batter. It is somewhat similar to a crepe in appearance. Its main ingredients are rice and black gram.\"\n",
    "\n",
    "with open('input.txt') as fp:\n",
    "    moby = fp.readlines()\n",
    "print(moby)\n",
    "\n",
    "\n",
    "\n",
    "documents = [doc_trump, doc_election, doc_putin, doc_soup, doc_noodles, doc_dosa, question]"
   ]
  },
  {
   "cell_type": "code",
   "execution_count": 9,
   "metadata": {},
   "outputs": [
    {
     "name": "stdout",
     "output_type": "stream",
     "text": [
      "Dictionary(107 unique tokens: ['an', 'as', 'be', 'criteria', 'exposure']...)\n"
     ]
    }
   ],
   "source": [
    "\n",
    "# Prepare a dictionary and a corpus.\n",
    "# Convert a document into a list of tokens.\n",
    "dictionary = corpora.Dictionary([simple_preprocess(doc) for doc in documents])\n",
    "\n",
    "print(dictionary)"
   ]
  },
  {
   "cell_type": "code",
   "execution_count": 13,
   "metadata": {},
   "outputs": [
    {
     "name": "stderr",
     "output_type": "stream",
     "text": [
      "/Library/Frameworks/Python.framework/Versions/3.7/lib/python3.7/site-packages/ipykernel_launcher.py:2: DeprecationWarning: Call to deprecated `similarity_matrix` (Method will be removed in 4.0.0, use gensim.models.keyedvectors.WordEmbeddingSimilarityIndex instead).\n",
      "  \n"
     ]
    },
    {
     "name": "stdout",
     "output_type": "stream",
     "text": [
      "  (0, 0)\t1.0\n",
      "  (46, 0)\t0.36781618\n",
      "  (1, 1)\t1.0\n",
      "  (5, 1)\t0.27977535\n",
      "  (20, 1)\t0.3125724\n",
      "  (21, 1)\t0.3184986\n",
      "  (44, 1)\t0.2794037\n",
      "  (47, 1)\t0.3495777\n",
      "  (48, 1)\t0.3187407\n",
      "  (56, 1)\t0.29178333\n",
      "  (62, 1)\t0.29233718\n",
      "  (87, 1)\t0.28585052\n",
      "  (96, 1)\t0.2750326\n",
      "  (105, 1)\t0.28730163\n",
      "  (2, 2)\t1.0\n",
      "  (30, 2)\t0.46742657\n",
      "  (53, 2)\t0.4778692\n",
      "  (56, 2)\t0.48941687\n",
      "  (3, 3)\t1.0\n",
      "  (4, 4)\t1.0\n",
      "  (32, 4)\t0.7147229\n",
      "  (5, 5)\t1.0\n",
      "  (1, 5)\t0.27977535\n",
      "  (9, 5)\t0.41390276\n",
      "  (16, 5)\t0.39645973\n",
      "  :\t:\n",
      "  (8, 97)\t0.38151467\n",
      "  (16, 97)\t0.56938624\n",
      "  (96, 97)\t0.39565054\n",
      "  (98, 98)\t1.0\n",
      "  (64, 98)\t0.33586586\n",
      "  (72, 98)\t0.299654\n",
      "  (99, 99)\t1.0\n",
      "  (78, 99)\t0.3485634\n",
      "  (100, 100)\t1.0\n",
      "  (46, 100)\t0.37657198\n",
      "  (101, 101)\t1.0\n",
      "  (102, 102)\t1.0\n",
      "  (103, 103)\t1.0\n",
      "  (104, 104)\t1.0\n",
      "  (15, 104)\t0.3246537\n",
      "  (17, 104)\t0.36248466\n",
      "  (60, 104)\t0.4074536\n",
      "  (105, 105)\t1.0\n",
      "  (1, 105)\t0.28730163\n",
      "  (106, 106)\t1.0\n",
      "  (20, 106)\t0.32501584\n",
      "  (44, 106)\t0.48977363\n",
      "  (87, 106)\t0.40043437\n",
      "  (96, 106)\t0.39528418\n",
      "  (16, 106)\t0.40485248\n"
     ]
    }
   ],
   "source": [
    "# Prepare the similarity matrix\n",
    "similarity_matrix = model.similarity_matrix(dictionary, tfidf=None, threshold=0.0, exponent=2.0, nonzero_limit=100)\n",
    "print(similarity_matrix)"
   ]
  },
  {
   "cell_type": "code",
   "execution_count": 14,
   "metadata": {},
   "outputs": [],
   "source": [
    "# Convert the sentences into bag-of-words vectors.\n",
    "sent_1 = dictionary.doc2bow(simple_preprocess(doc_trump))\n",
    "sent_2 = dictionary.doc2bow(simple_preprocess(doc_election))\n",
    "sent_3 = dictionary.doc2bow(simple_preprocess(doc_putin))\n",
    "sent_4 = dictionary.doc2bow(simple_preprocess(doc_soup))\n",
    "sent_5 = dictionary.doc2bow(simple_preprocess(doc_noodles))\n",
    "sent_6 = dictionary.doc2bow(simple_preprocess(doc_dosa))\n",
    "sent_7 = dictionary.doc2bow(simple_preprocess(question))"
   ]
  },
  {
   "cell_type": "code",
   "execution_count": 15,
   "metadata": {
    "scrolled": true
   },
   "outputs": [],
   "source": [
    "documents = [sent_1, sent_2, sent_3, sent_4, sent_5, sent_6, sent_7]"
   ]
  },
  {
   "cell_type": "code",
   "execution_count": 16,
   "metadata": {},
   "outputs": [
    {
     "name": "stdout",
     "output_type": "stream",
     "text": [
      "0.44604901255373236\n",
      "[(2, 1), (7, 1), (10, 1), (12, 1), (15, 1), (17, 3), (30, 1), (31, 1), (32, 1), (33, 1), (34, 2), (35, 1), (36, 2), (37, 2), (38, 1), (39, 1), (40, 1), (41, 1), (42, 1), (43, 1), (44, 1), (45, 1)]\n"
     ]
    },
    {
     "name": "stderr",
     "output_type": "stream",
     "text": [
      "/Library/Frameworks/Python.framework/Versions/3.7/lib/python3.7/site-packages/ipykernel_launcher.py:2: DeprecationWarning: Call to deprecated `softcossim` (Function will be removed in 4.0.0, use gensim.similarities.termsim.SparseTermSimilarityMatrix.inner_product instead).\n",
      "  \n"
     ]
    }
   ],
   "source": [
    "# Compute soft cosine similarity\n",
    "print(softcossim(sent_7, sent_2, similarity_matrix))\n",
    "print(sent_3)"
   ]
  },
  {
   "cell_type": "code",
   "execution_count": 17,
   "metadata": {},
   "outputs": [
    {
     "name": "stdout",
     "output_type": "stream",
     "text": [
      "0.40131435639398844\n"
     ]
    },
    {
     "name": "stderr",
     "output_type": "stream",
     "text": [
      "/Library/Frameworks/Python.framework/Versions/3.7/lib/python3.7/site-packages/ipykernel_launcher.py:1: DeprecationWarning: Call to deprecated `softcossim` (Function will be removed in 4.0.0, use gensim.similarities.termsim.SparseTermSimilarityMatrix.inner_product instead).\n",
      "  \"\"\"Entry point for launching an IPython kernel.\n"
     ]
    }
   ],
   "source": [
    "print(softcossim(sent_7, sent_3, similarity_matrix))"
   ]
  },
  {
   "cell_type": "code",
   "execution_count": 18,
   "metadata": {},
   "outputs": [
    {
     "name": "stdout",
     "output_type": "stream",
     "text": [
      "0.21999770564159454\n"
     ]
    },
    {
     "name": "stderr",
     "output_type": "stream",
     "text": [
      "/Library/Frameworks/Python.framework/Versions/3.7/lib/python3.7/site-packages/ipykernel_launcher.py:1: DeprecationWarning: Call to deprecated `softcossim` (Function will be removed in 4.0.0, use gensim.similarities.termsim.SparseTermSimilarityMatrix.inner_product instead).\n",
      "  \"\"\"Entry point for launching an IPython kernel.\n"
     ]
    }
   ],
   "source": [
    "print(softcossim(sent_7, sent_4, similarity_matrix))"
   ]
  },
  {
   "cell_type": "code",
   "execution_count": 19,
   "metadata": {},
   "outputs": [
    {
     "name": "stdout",
     "output_type": "stream",
     "text": [
      "0.23628342054932167\n"
     ]
    },
    {
     "name": "stderr",
     "output_type": "stream",
     "text": [
      "/Library/Frameworks/Python.framework/Versions/3.7/lib/python3.7/site-packages/ipykernel_launcher.py:1: DeprecationWarning: Call to deprecated `softcossim` (Function will be removed in 4.0.0, use gensim.similarities.termsim.SparseTermSimilarityMatrix.inner_product instead).\n",
      "  \"\"\"Entry point for launching an IPython kernel.\n"
     ]
    }
   ],
   "source": [
    "print(softcossim(sent_7, sent_5, similarity_matrix))"
   ]
  },
  {
   "cell_type": "code",
   "execution_count": 20,
   "metadata": {},
   "outputs": [
    {
     "name": "stdout",
     "output_type": "stream",
     "text": [
      "0.2831792028407466\n"
     ]
    },
    {
     "name": "stderr",
     "output_type": "stream",
     "text": [
      "/Library/Frameworks/Python.framework/Versions/3.7/lib/python3.7/site-packages/ipykernel_launcher.py:1: DeprecationWarning: Call to deprecated `softcossim` (Function will be removed in 4.0.0, use gensim.similarities.termsim.SparseTermSimilarityMatrix.inner_product instead).\n",
      "  \"\"\"Entry point for launching an IPython kernel.\n"
     ]
    }
   ],
   "source": [
    "print(softcossim(sent_7, sent_6, similarity_matrix))"
   ]
  },
  {
   "cell_type": "code",
   "execution_count": 21,
   "metadata": {},
   "outputs": [
    {
     "name": "stdout",
     "output_type": "stream",
     "text": [
      "0.5120960693841955\n"
     ]
    },
    {
     "name": "stderr",
     "output_type": "stream",
     "text": [
      "/Library/Frameworks/Python.framework/Versions/3.7/lib/python3.7/site-packages/ipykernel_launcher.py:1: DeprecationWarning: Call to deprecated `softcossim` (Function will be removed in 4.0.0, use gensim.similarities.termsim.SparseTermSimilarityMatrix.inner_product instead).\n",
      "  \"\"\"Entry point for launching an IPython kernel.\n"
     ]
    }
   ],
   "source": [
    "print(softcossim(sent_7, sent_1, similarity_matrix))"
   ]
  },
  {
   "cell_type": "code",
   "execution_count": null,
   "metadata": {},
   "outputs": [],
   "source": []
  }
 ],
 "metadata": {
  "kernelspec": {
   "display_name": "Python 3",
   "language": "python",
   "name": "python3"
  },
  "language_info": {
   "codemirror_mode": {
    "name": "ipython",
    "version": 3
   },
   "file_extension": ".py",
   "mimetype": "text/x-python",
   "name": "python",
   "nbconvert_exporter": "python",
   "pygments_lexer": "ipython3",
   "version": "3.7.2"
  }
 },
 "nbformat": 4,
 "nbformat_minor": 2
}
